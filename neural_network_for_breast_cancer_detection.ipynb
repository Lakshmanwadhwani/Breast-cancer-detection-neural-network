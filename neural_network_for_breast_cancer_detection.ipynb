{
  "nbformat": 4,
  "nbformat_minor": 0,
  "metadata": {
    "colab": {
      "name": "neural network for breast cancer detection.ipynb",
      "provenance": [],
      "collapsed_sections": [],
      "include_colab_link": true
    },
    "kernelspec": {
      "name": "python3",
      "display_name": "Python 3"
    }
  },
  "cells": [
    {
      "cell_type": "markdown",
      "metadata": {
        "id": "view-in-github",
        "colab_type": "text"
      },
      "source": [
        "<a href=\"https://colab.research.google.com/github/lmarkal/Breast-cancer-detection-neural-network/blob/master/neural_network_for_breast_cancer_detection.ipynb\" target=\"_parent\"><img src=\"https://colab.research.google.com/assets/colab-badge.svg\" alt=\"Open In Colab\"/></a>"
      ]
    },
    {
      "cell_type": "code",
      "metadata": {
        "colab_type": "code",
        "id": "pAhjQO-kPcUG",
        "colab": {}
      },
      "source": [
        "import tensorflow as tf\n"
      ],
      "execution_count": 0,
      "outputs": []
    },
    {
      "cell_type": "code",
      "metadata": {
        "id": "BNBf67m0XdNz",
        "colab_type": "code",
        "colab": {}
      },
      "source": [
        "import numpy as np"
      ],
      "execution_count": 0,
      "outputs": []
    },
    {
      "cell_type": "code",
      "metadata": {
        "id": "E-_qBWKFnLsi",
        "colab_type": "code",
        "colab": {}
      },
      "source": [
        "import pandas as pd\n"
      ],
      "execution_count": 0,
      "outputs": []
    },
    {
      "cell_type": "markdown",
      "metadata": {
        "id": "pvHRYAyPwKsj",
        "colab_type": "text"
      },
      "source": [
        "Pandas and Numpy are libraries for Python that help us with a lot of the math and data management."
      ]
    },
    {
      "cell_type": "code",
      "metadata": {
        "id": "6LkukeZdwY9l",
        "colab_type": "code",
        "colab": {}
      },
      "source": [
        "training_set_size_portion = .8"
      ],
      "execution_count": 0,
      "outputs": []
    },
    {
      "cell_type": "markdown",
      "metadata": {
        "id": "L_gvIka1xGTZ",
        "colab_type": "text"
      },
      "source": [
        "Data needs to be split into a training set and a test set.We would use an 80/20 split. To do so we set the training size to .8\n"
      ]
    },
    {
      "cell_type": "code",
      "metadata": {
        "id": "Fq2DWrIsyTZy",
        "colab_type": "code",
        "colab": {}
      },
      "source": [
        "do_shuffle = True"
      ],
      "execution_count": 0,
      "outputs": []
    },
    {
      "cell_type": "markdown",
      "metadata": {
        "id": "5k590RupzD8Y",
        "colab_type": "text"
      },
      "source": [
        "We set to true to shuffle the data before we split it into test and training sets.\n"
      ]
    },
    {
      "cell_type": "code",
      "metadata": {
        "id": "00D_qcyYxE2b",
        "colab_type": "code",
        "colab": {}
      },
      "source": [
        "accuracy_score = 0"
      ],
      "execution_count": 0,
      "outputs": []
    },
    {
      "cell_type": "markdown",
      "metadata": {
        "id": "J27Yhk8daPeV",
        "colab_type": "text"
      },
      "source": [
        "Keeping track of the accuracy score\n"
      ]
    },
    {
      "cell_type": "code",
      "metadata": {
        "id": "N8jtZcwQxEmo",
        "colab_type": "code",
        "colab": {}
      },
      "source": [
        "hidden_units_spec = [10,20,10]"
      ],
      "execution_count": 0,
      "outputs": []
    },
    {
      "cell_type": "code",
      "metadata": {
        "id": "sH2irh73bRX9",
        "colab_type": "code",
        "colab": {}
      },
      "source": [
        "n_classes_spec =  3"
      ],
      "execution_count": 0,
      "outputs": []
    },
    {
      "cell_type": "markdown",
      "metadata": {
        "id": "ehoKhNwMbugK",
        "colab_type": "text"
      },
      "source": [
        "The DNN has hidden units, we set the specs for them here\n",
        "\n"
      ]
    },
    {
      "cell_type": "code",
      "metadata": {
        "id": "yq1vTEOmcHz4",
        "colab_type": "code",
        "colab": {}
      },
      "source": [
        "tmp_dir_spec = \"tmp/model\""
      ],
      "execution_count": 0,
      "outputs": []
    },
    {
      "cell_type": "code",
      "metadata": {
        "id": "5ju7uIPphWgI",
        "colab_type": "code",
        "colab": {}
      },
      "source": [
        "steps_spec = 2000"
      ],
      "execution_count": 0,
      "outputs": []
    },
    {
      "cell_type": "markdown",
      "metadata": {
        "id": "5u1Ds0v3cQYS",
        "colab_type": "text"
      },
      "source": [
        "we define the temp directiory for keeping the model and check points. we also specify the number training steps\n"
      ]
    },
    {
      "cell_type": "code",
      "metadata": {
        "id": "AzHAmVZ6hwsC",
        "colab_type": "code",
        "colab": {}
      },
      "source": [
        "epochs_spec = 15"
      ],
      "execution_count": 0,
      "outputs": []
    },
    {
      "cell_type": "markdown",
      "metadata": {
        "id": "l2Jne-ffh2sh",
        "colab_type": "text"
      },
      "source": [
        "Setting the number of epochs\n"
      ]
    },
    {
      "cell_type": "code",
      "metadata": {
        "id": "9DFJAkoBijNv",
        "colab_type": "code",
        "colab": {}
      },
      "source": [
        "file_name = \"breastcancer.csv\"\n",
        "features = ['Age','BMI','Glucose','Insulin','HOMA','Leptin','Adiponectin','Resistin','MCP.1']   \n",
        "labels = ['Classification_numeric']\n"
      ],
      "execution_count": 0,
      "outputs": []
    },
    {
      "cell_type": "code",
      "metadata": {
        "id": "uFDrfbwbfe05",
        "colab_type": "code",
        "colab": {}
      },
      "source": [
        "data_name = 'breastcancer.csv'"
      ],
      "execution_count": 0,
      "outputs": []
    },
    {
      "cell_type": "markdown",
      "metadata": {
        "id": "rfcpNquhgA9p",
        "colab_type": "text"
      },
      "source": [
        "Here's the name we'll give our data\n"
      ]
    },
    {
      "cell_type": "code",
      "metadata": {
        "id": "KE-860bmgGXA",
        "colab_type": "code",
        "colab": {}
      },
      "source": [
        "data_url = 'https://raw.githubusercontent.com/lmarkal/Breast-cancer-detection-neural-network/master/breastcancer.csv'"
      ],
      "execution_count": 0,
      "outputs": []
    },
    {
      "cell_type": "markdown",
      "metadata": {
        "id": "9hJikHGdkpAj",
        "colab_type": "text"
      },
      "source": [
        "link to data"
      ]
    },
    {
      "cell_type": "code",
      "metadata": {
        "id": "8WJDd9gauETU",
        "colab_type": "code",
        "outputId": "aad01181-5ab6-4d81-9309-73250a06d523",
        "colab": {
          "base_uri": "https://localhost:8080/",
          "height": 51
        }
      },
      "source": [
        "file_name = tf.keras.utils.get_file(data_name, data_url)"
      ],
      "execution_count": 0,
      "outputs": [
        {
          "output_type": "stream",
          "text": [
            "Downloading data from https://raw.githubusercontent.com/lmarkal/Breast-cancer-detection-neural-network/master/breastcancer.csv\n",
            "\r8192/7695 [===============================] - 0s 0us/step\n"
          ],
          "name": "stdout"
        }
      ]
    },
    {
      "cell_type": "code",
      "metadata": {
        "id": "Lq8eBGaNuMUA",
        "colab_type": "code",
        "colab": {}
      },
      "source": [
        "my_data = pd.read_csv(file_name, delimiter=',')  "
      ],
      "execution_count": 0,
      "outputs": []
    },
    {
      "cell_type": "markdown",
      "metadata": {
        "id": "AA3HzAJLlXWT",
        "colab_type": "text"
      },
      "source": [
        "Lets load the data"
      ]
    },
    {
      "cell_type": "code",
      "metadata": {
        "colab_type": "code",
        "id": "coFZT_oEDGRt",
        "colab": {}
      },
      "source": [
        "if do_shuffle:\n",
        "  randomized_data = my_data.reindex(np.random.permutation(my_data.index))\n",
        "else:\n",
        "    randomized_data = my_data\n",
        "\n"
      ],
      "execution_count": 0,
      "outputs": []
    },
    {
      "cell_type": "markdown",
      "metadata": {
        "id": "hguJNx3lBrhY",
        "colab_type": "text"
      },
      "source": [
        "Shuffling the data\n"
      ]
    },
    {
      "cell_type": "code",
      "metadata": {
        "id": "BAz1VE66CpaY",
        "colab_type": "code",
        "colab": {}
      },
      "source": [
        "total_records = len(randomized_data)\n",
        "training_set_size = int(total_records * training_set_size_portion)\n",
        "test_set_size = total_records = training_set_size"
      ],
      "execution_count": 0,
      "outputs": []
    },
    {
      "cell_type": "markdown",
      "metadata": {
        "id": "iMRcBvtrDWbT",
        "colab_type": "text"
      },
      "source": [
        "this code then splits your data into the training features and labels sets based on the size I specified for my training features and labels. We’ll take from the ‘head’ of the randomized_data.\n"
      ]
    },
    {
      "cell_type": "code",
      "metadata": {
        "id": "I4fUc3aTESXt",
        "colab_type": "code",
        "outputId": "dde6bec1-2562-49ca-94a1-8c1d67fbd817",
        "colab": {
          "base_uri": "https://localhost:8080/",
          "height": 255
        }
      },
      "source": [
        "training_features = randomized_data.head(training_set_size)[features].copy()\n",
        "training_labels = randomized_data.head(training_set_size)[labels].copy()\n",
        "print(training_features.head())\n",
        "print(training_labels.head())"
      ],
      "execution_count": 0,
      "outputs": [
        {
          "output_type": "stream",
          "text": [
            "     Age        BMI  Glucose  Insulin  ...   Leptin  Adiponectin  Resistin    MCP.1\n",
            "22    29  32.270788       84    5.810  ...  45.6196     6.209635  24.60330  904.981\n",
            "71    44  24.740000      106   58.460  ...  18.1600    16.100000   5.31000  244.750\n",
            "10    34  21.470000       78    3.469  ...  14.5700    13.110000   6.92000  354.600\n",
            "111   45  26.850000       92    3.330  ...  54.6800    12.100000  10.96000  268.230\n",
            "32    28  35.855815       87    8.576  ...  68.5102     4.794200  21.44366  358.624\n",
            "\n",
            "[5 rows x 9 columns]\n",
            "     Classification_numeric\n",
            "22                        1\n",
            "71                        2\n",
            "10                        1\n",
            "111                       2\n",
            "32                        1\n"
          ],
          "name": "stdout"
        }
      ]
    },
    {
      "cell_type": "markdown",
      "metadata": {
        "id": "nwFk7KDxEeiu",
        "colab_type": "text"
      },
      "source": [
        "Build the training features and labels"
      ]
    },
    {
      "cell_type": "code",
      "metadata": {
        "id": "rZJ8ObiEEpOL",
        "colab_type": "code",
        "colab": {}
      },
      "source": [
        "testing_features = randomized_data.tail(test_set_size)[features].copy()\n",
        "testing_labels = randomized_data.tail(test_set_size)[labels].copy()"
      ],
      "execution_count": 0,
      "outputs": []
    },
    {
      "cell_type": "markdown",
      "metadata": {
        "id": "A5_yPlnCFFqD",
        "colab_type": "text"
      },
      "source": [
        "Build the testing features and labels"
      ]
    },
    {
      "cell_type": "code",
      "metadata": {
        "id": "Wx1EV8PJFNNU",
        "colab_type": "code",
        "colab": {}
      },
      "source": [
        "feature_columns = [tf.feature_column.numeric_column(key) for key in features]"
      ],
      "execution_count": 0,
      "outputs": []
    },
    {
      "cell_type": "markdown",
      "metadata": {
        "id": "mL8kS6ueFqSb",
        "colab_type": "text"
      },
      "source": [
        "The Neural Network classifier expects the feature columns to be specified as tf.feature_column types. As our columns are numbers, we set them to numeric_column types."
      ]
    },
    {
      "cell_type": "code",
      "metadata": {
        "colab_type": "code",
        "id": "yuc47lg8wUqJ",
        "outputId": "fba480a5-7781-4953-c53a-ac2b9ac337b5",
        "colab": {
          "base_uri": "https://localhost:8080/",
          "height": 173
        }
      },
      "source": [
        "classifier = tf.estimator.DNNClassifier(\n",
        "    feature_columns=feature_columns, \n",
        "    hidden_units=hidden_units_spec, \n",
        "    n_classes=n_classes_spec,\n",
        "    model_dir=tmp_dir_spec)  "
      ],
      "execution_count": 0,
      "outputs": [
        {
          "output_type": "stream",
          "text": [
            "INFO:tensorflow:Using default config.\n",
            "INFO:tensorflow:Using config: {'_model_dir': 'tmp/model', '_tf_random_seed': None, '_save_summary_steps': 100, '_save_checkpoints_steps': None, '_save_checkpoints_secs': 600, '_session_config': allow_soft_placement: true\n",
            "graph_options {\n",
            "  rewrite_options {\n",
            "    meta_optimizer_iterations: ONE\n",
            "  }\n",
            "}\n",
            ", '_keep_checkpoint_max': 5, '_keep_checkpoint_every_n_hours': 10000, '_log_step_count_steps': 100, '_train_distribute': None, '_device_fn': None, '_protocol': None, '_eval_distribute': None, '_experimental_distribute': None, '_experimental_max_worker_delay_secs': None, '_session_creation_timeout_secs': 7200, '_service': None, '_cluster_spec': <tensorflow.python.training.server_lib.ClusterSpec object at 0x7f8bd58b7ac8>, '_task_type': 'worker', '_task_id': 0, '_global_id_in_cluster': 0, '_master': '', '_evaluation_master': '', '_is_chief': True, '_num_ps_replicas': 0, '_num_worker_replicas': 1}\n"
          ],
          "name": "stdout"
        }
      ]
    },
    {
      "cell_type": "markdown",
      "metadata": {
        "id": "uTyUj1otGHQM",
        "colab_type": "text"
      },
      "source": [
        "Given that we have all our data, we can now create our neural network object that we’ll train on the data. This takes the feature columns that you just created as well as parameters defining the number of hidden units in the neural network, as well as the number of classes. As it trains the network, it saves temporary files and checkpoints as well as the finished model out to the specified model directory.\n",
        "The hidden units are a direct specification of what the network looks like — so, for example our default here is [10, 20, 10], which means there’ll be a layer of 10 neurons, with each connected to 20 neurons in the next layer, each of which is connected to 10 neurons in the third layer.\n",
        "The classes are the number of classes we are classifying to. In this case we’re doing breast cancer classification, with 2 classes, so we will train on 2 classes."
      ]
    },
    {
      "cell_type": "code",
      "metadata": {
        "id": "ohoPV4TwGMbC",
        "colab_type": "code",
        "colab": {}
      },
      "source": [
        "train_input_fn = tf.estimator.inputs.pandas_input_fn(\n",
        "                     x=training_features, \n",
        "                     y=training_labels['Classification_numeric'], \n",
        "                     num_epochs=epochs_spec, \n",
        "                     shuffle=True)"
      ],
      "execution_count": 0,
      "outputs": []
    },
    {
      "cell_type": "markdown",
      "metadata": {
        "id": "zoG-Woy2HS_b",
        "colab_type": "text"
      },
      "source": [
        "Train the network.\n",
        "This next step is to train the classifier using the data. to do this you build an input function that specifies the features (aka ‘x’) and the labels (aka ‘y’). This is done by specifiying it as a pandas_input_fn:"
      ]
    },
    {
      "cell_type": "code",
      "metadata": {
        "id": "rDOgZ2f1HuzV",
        "colab_type": "code",
        "outputId": "8a49b108-c84b-4a65-c77b-f7c04a614300",
        "colab": {
          "base_uri": "https://localhost:8080/",
          "height": 632
        }
      },
      "source": [
        "classifier.train(input_fn=train_input_fn, steps=steps_spec)"
      ],
      "execution_count": 0,
      "outputs": [
        {
          "output_type": "stream",
          "text": [
            "WARNING:tensorflow:From /usr/local/lib/python3.6/dist-packages/tensorflow_core/python/training/training_util.py:236: Variable.initialized_value (from tensorflow.python.ops.variables) is deprecated and will be removed in a future version.\n",
            "Instructions for updating:\n",
            "Use Variable.read_value. Variables in 2.X are initialized automatically both in eager and graph (inside tf.defun) contexts.\n",
            "WARNING:tensorflow:From /usr/local/lib/python3.6/dist-packages/tensorflow_estimator/python/estimator/inputs/queues/feeding_queue_runner.py:62: QueueRunner.__init__ (from tensorflow.python.training.queue_runner_impl) is deprecated and will be removed in a future version.\n",
            "Instructions for updating:\n",
            "To construct input pipelines, use the `tf.data` module.\n",
            "WARNING:tensorflow:From /usr/local/lib/python3.6/dist-packages/tensorflow_estimator/python/estimator/inputs/queues/feeding_functions.py:500: add_queue_runner (from tensorflow.python.training.queue_runner_impl) is deprecated and will be removed in a future version.\n",
            "Instructions for updating:\n",
            "To construct input pipelines, use the `tf.data` module.\n",
            "INFO:tensorflow:Calling model_fn.\n",
            "WARNING:tensorflow:From /usr/local/lib/python3.6/dist-packages/tensorflow_core/python/ops/resource_variable_ops.py:1630: calling BaseResourceVariable.__init__ (from tensorflow.python.ops.resource_variable_ops) with constraint is deprecated and will be removed in a future version.\n",
            "Instructions for updating:\n",
            "If using Keras pass *_constraint arguments to layers.\n",
            "WARNING:tensorflow:From /usr/local/lib/python3.6/dist-packages/tensorflow_estimator/python/estimator/canned/head.py:437: to_float (from tensorflow.python.ops.math_ops) is deprecated and will be removed in a future version.\n",
            "Instructions for updating:\n",
            "Use `tf.cast` instead.\n",
            "WARNING:tensorflow:From /usr/local/lib/python3.6/dist-packages/tensorflow_core/python/training/adagrad.py:76: calling Constant.__init__ (from tensorflow.python.ops.init_ops) with dtype is deprecated and will be removed in a future version.\n",
            "Instructions for updating:\n",
            "Call initializer instance with the dtype argument instead of passing it to the constructor\n",
            "INFO:tensorflow:Done calling model_fn.\n",
            "INFO:tensorflow:Create CheckpointSaverHook.\n",
            "WARNING:tensorflow:From /usr/local/lib/python3.6/dist-packages/tensorflow_core/python/ops/array_ops.py:1475: where (from tensorflow.python.ops.array_ops) is deprecated and will be removed in a future version.\n",
            "Instructions for updating:\n",
            "Use tf.where in 2.0, which has the same broadcast rule as np.where\n",
            "INFO:tensorflow:Graph was finalized.\n",
            "INFO:tensorflow:Running local_init_op.\n",
            "INFO:tensorflow:Done running local_init_op.\n",
            "WARNING:tensorflow:From /usr/local/lib/python3.6/dist-packages/tensorflow_core/python/training/monitored_session.py:882: start_queue_runners (from tensorflow.python.training.queue_runner_impl) is deprecated and will be removed in a future version.\n",
            "Instructions for updating:\n",
            "To construct input pipelines, use the `tf.data` module.\n",
            "INFO:tensorflow:Saving checkpoints for 0 into tmp/model/model.ckpt.\n",
            "INFO:tensorflow:loss = 647.279, step = 1\n",
            "INFO:tensorflow:Saving checkpoints for 11 into tmp/model/model.ckpt.\n",
            "INFO:tensorflow:Loss for final step: 67.53089.\n"
          ],
          "name": "stdout"
        },
        {
          "output_type": "execute_result",
          "data": {
            "text/plain": [
              "<tensorflow_estimator.python.estimator.canned.dnn.DNNClassifier at 0x7f8bd5d4db70>"
            ]
          },
          "metadata": {
            "tags": []
          },
          "execution_count": 26
        }
      ]
    },
    {
      "cell_type": "markdown",
      "metadata": {
        "id": "JzDocmUX8Rwd",
        "colab_type": "text"
      },
      "source": [
        "Training the model using the classifier\n"
      ]
    },
    {
      "cell_type": "code",
      "metadata": {
        "id": "93SwTHQo8nRV",
        "colab_type": "code",
        "colab": {}
      },
      "source": [
        "test_input_fn = tf.estimator.inputs.pandas_input_fn(\n",
        "                    x=testing_features, \n",
        "                    y=testing_labels['Classification_numeric'], \n",
        "                    num_epochs=epochs_spec, \n",
        "                    shuffle=False)"
      ],
      "execution_count": 0,
      "outputs": []
    },
    {
      "cell_type": "markdown",
      "metadata": {
        "id": "kjNE9QHa8_5B",
        "colab_type": "text"
      },
      "source": [
        "Defining the test input function\n"
      ]
    },
    {
      "cell_type": "code",
      "metadata": {
        "id": "GvRmTOc_B6fE",
        "colab_type": "code",
        "outputId": "904a81e0-7f1b-47a2-8817-f9a46d867846",
        "colab": {
          "base_uri": "https://localhost:8080/",
          "height": 204
        }
      },
      "source": [
        "accuracy_score = classifier.evaluate(input_fn=test_input_fn)[\"accuracy\"]\n",
        "print(\"Accuracy = {}\".format(accuracy_score))"
      ],
      "execution_count": 0,
      "outputs": [
        {
          "output_type": "stream",
          "text": [
            "INFO:tensorflow:Calling model_fn.\n",
            "INFO:tensorflow:Done calling model_fn.\n",
            "INFO:tensorflow:Starting evaluation at 2019-10-16T18:25:39Z\n",
            "INFO:tensorflow:Graph was finalized.\n",
            "INFO:tensorflow:Restoring parameters from tmp/model/model.ckpt-11\n",
            "INFO:tensorflow:Running local_init_op.\n",
            "INFO:tensorflow:Done running local_init_op.\n",
            "INFO:tensorflow:Finished evaluation at 2019-10-16-18:25:40\n",
            "INFO:tensorflow:Saving dict for global step 11: accuracy = 0.57608694, average_loss = 0.68161565, global_step = 11, loss = 85.51179\n",
            "INFO:tensorflow:Saving 'checkpoint_path' summary for global step 11: tmp/model/model.ckpt-11\n",
            "Accuracy = 0.5760869383811951\n"
          ],
          "name": "stdout"
        }
      ]
    },
    {
      "cell_type": "markdown",
      "metadata": {
        "id": "Fi2QTNLzG0JH",
        "colab_type": "text"
      },
      "source": [
        "Evaluating accuracy...right now it reads at 57\n",
        "%. Not nearly close to good :(\n",
        "  \n"
      ]
    },
    {
      "cell_type": "code",
      "metadata": {
        "id": "vowpPpHaHA-Y",
        "colab_type": "code",
        "colab": {}
      },
      "source": [
        "prediction_set = pd.DataFrame({'Age':[48, 83, 82], 'BMI':[23.5, 20.691, 23.125], 'Glucose':[70, 92, 91], 'Insulin':[2.707, 3.115, 4.498], 'HOMA':[.467, .707, 1.0097], 'Leptin':[8.8071, 8.8438, 17.9393], 'Adiponectin':[9.7024, 5.4293, 22.432], 'Resistin':[7.996, 4.064, 9.2771], 'MCP.1':[417.114, 468.786, 544.697]})"
      ],
      "execution_count": 0,
      "outputs": []
    },
    {
      "cell_type": "markdown",
      "metadata": {
        "id": "oLmOxDPosbiW",
        "colab_type": "text"
      },
      "source": [
        "Create a prediction set -- this is a list of input features that you want to classify"
      ]
    },
    {
      "cell_type": "code",
      "metadata": {
        "id": "AbAC89my02NA",
        "colab_type": "code",
        "colab": {}
      },
      "source": [
        "predict_input_fn = tf.estimator.inputs.pandas_input_fn(\n",
        "                      x=prediction_set, \n",
        "                      num_epochs=1, \n",
        "                      shuffle=False)"
      ],
      "execution_count": 0,
      "outputs": []
    },
    {
      "cell_type": "markdown",
      "metadata": {
        "id": "SHI56RWh07dc",
        "colab_type": "text"
      },
      "source": [
        "The classifier can then predict my labels based on this function"
      ]
    },
    {
      "cell_type": "code",
      "metadata": {
        "id": "6cme_BpA1xDT",
        "colab_type": "code",
        "outputId": "fea67d52-336d-41b1-9b75-863389c8b4c7",
        "colab": {
          "base_uri": "https://localhost:8080/",
          "height": 119
        }
      },
      "source": [
        "predictions = list(classifier.predict(input_fn=predict_input_fn))"
      ],
      "execution_count": 0,
      "outputs": [
        {
          "output_type": "stream",
          "text": [
            "INFO:tensorflow:Calling model_fn.\n",
            "INFO:tensorflow:Done calling model_fn.\n",
            "INFO:tensorflow:Graph was finalized.\n",
            "INFO:tensorflow:Restoring parameters from tmp/model/model.ckpt-11\n",
            "INFO:tensorflow:Running local_init_op.\n",
            "INFO:tensorflow:Done running local_init_op.\n"
          ],
          "name": "stdout"
        }
      ]
    },
    {
      "cell_type": "code",
      "metadata": {
        "id": "-0I258Ln5WF0",
        "colab_type": "code",
        "outputId": "a623f684-5a06-4f46-cae6-fd05ef23a3b7",
        "colab": {
          "base_uri": "https://localhost:8080/",
          "height": 34
        }
      },
      "source": [
        "predicted_classes = [p[\"classes\"] for p in predictions]\n",
        "results=np.concatenate(predicted_classes) \n",
        "print(results)"
      ],
      "execution_count": 0,
      "outputs": [
        {
          "output_type": "stream",
          "text": [
            "[b'2' b'2' b'2']\n"
          ],
          "name": "stdout"
        }
      ]
    },
    {
      "cell_type": "markdown",
      "metadata": {
        "id": "xCXc9OPf18oW",
        "colab_type": "text"
      },
      "source": [
        "Get us a list of the predictions"
      ]
    }
  ]
}